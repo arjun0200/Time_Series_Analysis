{
 "cells": [
  {
   "cell_type": "code",
   "execution_count": 1,
   "id": "fcc7780b",
   "metadata": {},
   "outputs": [
    {
     "name": "stdout",
     "output_type": "stream",
     "text": [
      "Collecting pandas-datareader"
     ]
    },
    {
     "name": "stderr",
     "output_type": "stream",
     "text": [
      "\n",
      "[notice] A new release of pip available: 22.3.1 -> 23.0.1\n",
      "[notice] To update, run: python.exe -m pip install --upgrade pip\n"
     ]
    },
    {
     "name": "stdout",
     "output_type": "stream",
     "text": [
      "\n",
      "  Downloading pandas_datareader-0.10.0-py3-none-any.whl (109 kB)\n",
      "     ------------------------------------ 109.5/109.5 kB 580.2 kB/s eta 0:00:00\n",
      "Requirement already satisfied: requests>=2.19.0 in c:\\users\\preeti\\appdata\\local\\programs\\python\\python37\\lib\\site-packages (from pandas-datareader) (2.27.1)\n",
      "Requirement already satisfied: lxml in c:\\users\\preeti\\appdata\\local\\programs\\python\\python37\\lib\\site-packages (from pandas-datareader) (4.7.1)\n",
      "Requirement already satisfied: pandas>=0.23 in c:\\users\\preeti\\appdata\\local\\programs\\python\\python37\\lib\\site-packages (from pandas-datareader) (1.3.5)\n",
      "Requirement already satisfied: python-dateutil>=2.7.3 in c:\\users\\preeti\\appdata\\local\\programs\\python\\python37\\lib\\site-packages (from pandas>=0.23->pandas-datareader) (2.8.2)\n",
      "Requirement already satisfied: pytz>=2017.3 in c:\\users\\preeti\\appdata\\local\\programs\\python\\python37\\lib\\site-packages (from pandas>=0.23->pandas-datareader) (2021.3)\n",
      "Requirement already satisfied: numpy>=1.17.3 in c:\\users\\preeti\\appdata\\local\\programs\\python\\python37\\lib\\site-packages (from pandas>=0.23->pandas-datareader) (1.21.5)\n",
      "Requirement already satisfied: certifi>=2017.4.17 in c:\\users\\preeti\\appdata\\local\\programs\\python\\python37\\lib\\site-packages (from requests>=2.19.0->pandas-datareader) (2021.10.8)\n",
      "Requirement already satisfied: idna<4,>=2.5 in c:\\users\\preeti\\appdata\\local\\programs\\python\\python37\\lib\\site-packages (from requests>=2.19.0->pandas-datareader) (2.10)\n",
      "Requirement already satisfied: charset-normalizer~=2.0.0 in c:\\users\\preeti\\appdata\\local\\programs\\python\\python37\\lib\\site-packages (from requests>=2.19.0->pandas-datareader) (2.0.12)\n",
      "Requirement already satisfied: urllib3<1.27,>=1.21.1 in c:\\users\\preeti\\appdata\\local\\programs\\python\\python37\\lib\\site-packages (from requests>=2.19.0->pandas-datareader) (1.26.9)\n",
      "Requirement already satisfied: six>=1.5 in c:\\users\\preeti\\appdata\\local\\programs\\python\\python37\\lib\\site-packages (from python-dateutil>=2.7.3->pandas>=0.23->pandas-datareader) (1.16.0)\n",
      "Installing collected packages: pandas-datareader\n",
      "Successfully installed pandas-datareader-0.10.0\n"
     ]
    }
   ],
   "source": [
    "!pip install pandas-datareader"
   ]
  },
  {
   "cell_type": "code",
   "execution_count": 1,
   "id": "e2023e05",
   "metadata": {},
   "outputs": [],
   "source": [
    "import pandas as pd\n",
    "import matplotlib.pyplot as plt\n",
    "import pandas_datareader as pdr\n",
    "%matplotlib inline\n",
    "\n",
    "from pandas_datareader import data as pdr\n",
    "\n",
    "import yfinance as yf\n",
    "yf.pdr_override() # <== that's all it takes :-)\n"
   ]
  },
  {
   "cell_type": "code",
   "execution_count": 2,
   "id": "5ff30c35",
   "metadata": {},
   "outputs": [],
   "source": [
    "from datetime import datetime"
   ]
  },
  {
   "cell_type": "code",
   "execution_count": 3,
   "id": "288abe42",
   "metadata": {},
   "outputs": [
    {
     "name": "stdout",
     "output_type": "stream",
     "text": [
      "[*********************100%***********************]  1 of 1 completed\n"
     ]
    },
    {
     "data": {
      "text/html": [
       "<div>\n",
       "<style scoped>\n",
       "    .dataframe tbody tr th:only-of-type {\n",
       "        vertical-align: middle;\n",
       "    }\n",
       "\n",
       "    .dataframe tbody tr th {\n",
       "        vertical-align: top;\n",
       "    }\n",
       "\n",
       "    .dataframe thead th {\n",
       "        text-align: right;\n",
       "    }\n",
       "</style>\n",
       "<table border=\"1\" class=\"dataframe\">\n",
       "  <thead>\n",
       "    <tr style=\"text-align: right;\">\n",
       "      <th></th>\n",
       "      <th>Open</th>\n",
       "      <th>High</th>\n",
       "      <th>Low</th>\n",
       "      <th>Close</th>\n",
       "      <th>Adj Close</th>\n",
       "      <th>Volume</th>\n",
       "    </tr>\n",
       "    <tr>\n",
       "      <th>Date</th>\n",
       "      <th></th>\n",
       "      <th></th>\n",
       "      <th></th>\n",
       "      <th></th>\n",
       "      <th></th>\n",
       "      <th></th>\n",
       "    </tr>\n",
       "  </thead>\n",
       "  <tbody>\n",
       "    <tr>\n",
       "      <th>2018-02-23</th>\n",
       "      <td>23.188667</td>\n",
       "      <td>23.666000</td>\n",
       "      <td>23.139999</td>\n",
       "      <td>23.469999</td>\n",
       "      <td>23.469999</td>\n",
       "      <td>87261000</td>\n",
       "    </tr>\n",
       "    <tr>\n",
       "      <th>2018-02-26</th>\n",
       "      <td>23.566668</td>\n",
       "      <td>23.933332</td>\n",
       "      <td>23.490667</td>\n",
       "      <td>23.827999</td>\n",
       "      <td>23.827999</td>\n",
       "      <td>65100000</td>\n",
       "    </tr>\n",
       "    <tr>\n",
       "      <th>2018-02-27</th>\n",
       "      <td>23.750000</td>\n",
       "      <td>23.999332</td>\n",
       "      <td>23.334000</td>\n",
       "      <td>23.399332</td>\n",
       "      <td>23.399332</td>\n",
       "      <td>71961000</td>\n",
       "    </tr>\n",
       "    <tr>\n",
       "      <th>2018-02-28</th>\n",
       "      <td>23.504667</td>\n",
       "      <td>23.682667</td>\n",
       "      <td>22.814667</td>\n",
       "      <td>22.870667</td>\n",
       "      <td>22.870667</td>\n",
       "      <td>91045500</td>\n",
       "    </tr>\n",
       "    <tr>\n",
       "      <th>2018-03-01</th>\n",
       "      <td>23.000668</td>\n",
       "      <td>23.244667</td>\n",
       "      <td>22.004667</td>\n",
       "      <td>22.062000</td>\n",
       "      <td>22.062000</td>\n",
       "      <td>103284000</td>\n",
       "    </tr>\n",
       "    <tr>\n",
       "      <th>...</th>\n",
       "      <td>...</td>\n",
       "      <td>...</td>\n",
       "      <td>...</td>\n",
       "      <td>...</td>\n",
       "      <td>...</td>\n",
       "      <td>...</td>\n",
       "    </tr>\n",
       "    <tr>\n",
       "      <th>2023-02-15</th>\n",
       "      <td>211.759995</td>\n",
       "      <td>214.660004</td>\n",
       "      <td>206.110001</td>\n",
       "      <td>214.240005</td>\n",
       "      <td>214.240005</td>\n",
       "      <td>182108600</td>\n",
       "    </tr>\n",
       "    <tr>\n",
       "      <th>2023-02-16</th>\n",
       "      <td>210.779999</td>\n",
       "      <td>217.649994</td>\n",
       "      <td>201.839996</td>\n",
       "      <td>202.039993</td>\n",
       "      <td>202.039993</td>\n",
       "      <td>229586500</td>\n",
       "    </tr>\n",
       "    <tr>\n",
       "      <th>2023-02-17</th>\n",
       "      <td>199.990005</td>\n",
       "      <td>208.440002</td>\n",
       "      <td>197.500000</td>\n",
       "      <td>208.309998</td>\n",
       "      <td>208.309998</td>\n",
       "      <td>213080200</td>\n",
       "    </tr>\n",
       "    <tr>\n",
       "      <th>2023-02-21</th>\n",
       "      <td>204.990005</td>\n",
       "      <td>209.710007</td>\n",
       "      <td>197.220001</td>\n",
       "      <td>197.369995</td>\n",
       "      <td>197.369995</td>\n",
       "      <td>180018600</td>\n",
       "    </tr>\n",
       "    <tr>\n",
       "      <th>2023-02-22</th>\n",
       "      <td>197.929993</td>\n",
       "      <td>201.990005</td>\n",
       "      <td>191.779999</td>\n",
       "      <td>200.860001</td>\n",
       "      <td>200.860001</td>\n",
       "      <td>191216800</td>\n",
       "    </tr>\n",
       "  </tbody>\n",
       "</table>\n",
       "<p>1258 rows × 6 columns</p>\n",
       "</div>"
      ],
      "text/plain": [
       "                  Open        High         Low       Close   Adj Close  \\\n",
       "Date                                                                     \n",
       "2018-02-23   23.188667   23.666000   23.139999   23.469999   23.469999   \n",
       "2018-02-26   23.566668   23.933332   23.490667   23.827999   23.827999   \n",
       "2018-02-27   23.750000   23.999332   23.334000   23.399332   23.399332   \n",
       "2018-02-28   23.504667   23.682667   22.814667   22.870667   22.870667   \n",
       "2018-03-01   23.000668   23.244667   22.004667   22.062000   22.062000   \n",
       "...                ...         ...         ...         ...         ...   \n",
       "2023-02-15  211.759995  214.660004  206.110001  214.240005  214.240005   \n",
       "2023-02-16  210.779999  217.649994  201.839996  202.039993  202.039993   \n",
       "2023-02-17  199.990005  208.440002  197.500000  208.309998  208.309998   \n",
       "2023-02-21  204.990005  209.710007  197.220001  197.369995  197.369995   \n",
       "2023-02-22  197.929993  201.990005  191.779999  200.860001  200.860001   \n",
       "\n",
       "               Volume  \n",
       "Date                   \n",
       "2018-02-23   87261000  \n",
       "2018-02-26   65100000  \n",
       "2018-02-27   71961000  \n",
       "2018-02-28   91045500  \n",
       "2018-03-01  103284000  \n",
       "...               ...  \n",
       "2023-02-15  182108600  \n",
       "2023-02-16  229586500  \n",
       "2023-02-17  213080200  \n",
       "2023-02-21  180018600  \n",
       "2023-02-22  191216800  \n",
       "\n",
       "[1258 rows x 6 columns]"
      ]
     },
     "execution_count": 3,
     "metadata": {},
     "output_type": "execute_result"
    }
   ],
   "source": [
    "# Set up End and Start times for data grab\n",
    "end = datetime.now()\n",
    "start = datetime(end.year - 5, end.month, end.day)\n",
    "df_tsla = pdr.get_data_yahoo('TSLA', start, end)\n",
    "df_tsla"
   ]
  },
  {
   "cell_type": "code",
   "execution_count": 4,
   "id": "579c0481",
   "metadata": {},
   "outputs": [
    {
     "data": {
      "text/plain": [
       "pandas.core.frame.DataFrame"
      ]
     },
     "execution_count": 4,
     "metadata": {},
     "output_type": "execute_result"
    }
   ],
   "source": [
    "type(df_tsla)"
   ]
  },
  {
   "cell_type": "code",
   "execution_count": 5,
   "id": "36983848",
   "metadata": {},
   "outputs": [
    {
     "data": {
      "text/html": [
       "<div>\n",
       "<style scoped>\n",
       "    .dataframe tbody tr th:only-of-type {\n",
       "        vertical-align: middle;\n",
       "    }\n",
       "\n",
       "    .dataframe tbody tr th {\n",
       "        vertical-align: top;\n",
       "    }\n",
       "\n",
       "    .dataframe thead th {\n",
       "        text-align: right;\n",
       "    }\n",
       "</style>\n",
       "<table border=\"1\" class=\"dataframe\">\n",
       "  <thead>\n",
       "    <tr style=\"text-align: right;\">\n",
       "      <th></th>\n",
       "      <th>Open</th>\n",
       "      <th>High</th>\n",
       "      <th>Low</th>\n",
       "      <th>Close</th>\n",
       "      <th>Adj Close</th>\n",
       "      <th>Volume</th>\n",
       "    </tr>\n",
       "    <tr>\n",
       "      <th>Date</th>\n",
       "      <th></th>\n",
       "      <th></th>\n",
       "      <th></th>\n",
       "      <th></th>\n",
       "      <th></th>\n",
       "      <th></th>\n",
       "    </tr>\n",
       "  </thead>\n",
       "  <tbody>\n",
       "    <tr>\n",
       "      <th>2018-02-23</th>\n",
       "      <td>23.188667</td>\n",
       "      <td>23.666000</td>\n",
       "      <td>23.139999</td>\n",
       "      <td>23.469999</td>\n",
       "      <td>23.469999</td>\n",
       "      <td>87261000</td>\n",
       "    </tr>\n",
       "    <tr>\n",
       "      <th>2018-02-26</th>\n",
       "      <td>23.566668</td>\n",
       "      <td>23.933332</td>\n",
       "      <td>23.490667</td>\n",
       "      <td>23.827999</td>\n",
       "      <td>23.827999</td>\n",
       "      <td>65100000</td>\n",
       "    </tr>\n",
       "    <tr>\n",
       "      <th>2018-02-27</th>\n",
       "      <td>23.750000</td>\n",
       "      <td>23.999332</td>\n",
       "      <td>23.334000</td>\n",
       "      <td>23.399332</td>\n",
       "      <td>23.399332</td>\n",
       "      <td>71961000</td>\n",
       "    </tr>\n",
       "    <tr>\n",
       "      <th>2018-02-28</th>\n",
       "      <td>23.504667</td>\n",
       "      <td>23.682667</td>\n",
       "      <td>22.814667</td>\n",
       "      <td>22.870667</td>\n",
       "      <td>22.870667</td>\n",
       "      <td>91045500</td>\n",
       "    </tr>\n",
       "    <tr>\n",
       "      <th>2018-03-01</th>\n",
       "      <td>23.000668</td>\n",
       "      <td>23.244667</td>\n",
       "      <td>22.004667</td>\n",
       "      <td>22.062000</td>\n",
       "      <td>22.062000</td>\n",
       "      <td>103284000</td>\n",
       "    </tr>\n",
       "  </tbody>\n",
       "</table>\n",
       "</div>"
      ],
      "text/plain": [
       "                 Open       High        Low      Close  Adj Close     Volume\n",
       "Date                                                                        \n",
       "2018-02-23  23.188667  23.666000  23.139999  23.469999  23.469999   87261000\n",
       "2018-02-26  23.566668  23.933332  23.490667  23.827999  23.827999   65100000\n",
       "2018-02-27  23.750000  23.999332  23.334000  23.399332  23.399332   71961000\n",
       "2018-02-28  23.504667  23.682667  22.814667  22.870667  22.870667   91045500\n",
       "2018-03-01  23.000668  23.244667  22.004667  22.062000  22.062000  103284000"
      ]
     },
     "execution_count": 5,
     "metadata": {},
     "output_type": "execute_result"
    }
   ],
   "source": [
    "df_tsla.head()"
   ]
  },
  {
   "cell_type": "code",
   "execution_count": 6,
   "id": "3a0c34e2",
   "metadata": {},
   "outputs": [
    {
     "data": {
      "text/html": [
       "<div>\n",
       "<style scoped>\n",
       "    .dataframe tbody tr th:only-of-type {\n",
       "        vertical-align: middle;\n",
       "    }\n",
       "\n",
       "    .dataframe tbody tr th {\n",
       "        vertical-align: top;\n",
       "    }\n",
       "\n",
       "    .dataframe thead th {\n",
       "        text-align: right;\n",
       "    }\n",
       "</style>\n",
       "<table border=\"1\" class=\"dataframe\">\n",
       "  <thead>\n",
       "    <tr style=\"text-align: right;\">\n",
       "      <th></th>\n",
       "      <th>Open</th>\n",
       "      <th>High</th>\n",
       "      <th>Low</th>\n",
       "      <th>Close</th>\n",
       "      <th>Adj Close</th>\n",
       "      <th>Volume</th>\n",
       "    </tr>\n",
       "    <tr>\n",
       "      <th>Date</th>\n",
       "      <th></th>\n",
       "      <th></th>\n",
       "      <th></th>\n",
       "      <th></th>\n",
       "      <th></th>\n",
       "      <th></th>\n",
       "    </tr>\n",
       "  </thead>\n",
       "  <tbody>\n",
       "    <tr>\n",
       "      <th>2023-02-15</th>\n",
       "      <td>211.759995</td>\n",
       "      <td>214.660004</td>\n",
       "      <td>206.110001</td>\n",
       "      <td>214.240005</td>\n",
       "      <td>214.240005</td>\n",
       "      <td>182108600</td>\n",
       "    </tr>\n",
       "    <tr>\n",
       "      <th>2023-02-16</th>\n",
       "      <td>210.779999</td>\n",
       "      <td>217.649994</td>\n",
       "      <td>201.839996</td>\n",
       "      <td>202.039993</td>\n",
       "      <td>202.039993</td>\n",
       "      <td>229586500</td>\n",
       "    </tr>\n",
       "    <tr>\n",
       "      <th>2023-02-17</th>\n",
       "      <td>199.990005</td>\n",
       "      <td>208.440002</td>\n",
       "      <td>197.500000</td>\n",
       "      <td>208.309998</td>\n",
       "      <td>208.309998</td>\n",
       "      <td>213080200</td>\n",
       "    </tr>\n",
       "    <tr>\n",
       "      <th>2023-02-21</th>\n",
       "      <td>204.990005</td>\n",
       "      <td>209.710007</td>\n",
       "      <td>197.220001</td>\n",
       "      <td>197.369995</td>\n",
       "      <td>197.369995</td>\n",
       "      <td>180018600</td>\n",
       "    </tr>\n",
       "    <tr>\n",
       "      <th>2023-02-22</th>\n",
       "      <td>197.929993</td>\n",
       "      <td>201.990005</td>\n",
       "      <td>191.779999</td>\n",
       "      <td>200.860001</td>\n",
       "      <td>200.860001</td>\n",
       "      <td>191216800</td>\n",
       "    </tr>\n",
       "  </tbody>\n",
       "</table>\n",
       "</div>"
      ],
      "text/plain": [
       "                  Open        High         Low       Close   Adj Close  \\\n",
       "Date                                                                     \n",
       "2023-02-15  211.759995  214.660004  206.110001  214.240005  214.240005   \n",
       "2023-02-16  210.779999  217.649994  201.839996  202.039993  202.039993   \n",
       "2023-02-17  199.990005  208.440002  197.500000  208.309998  208.309998   \n",
       "2023-02-21  204.990005  209.710007  197.220001  197.369995  197.369995   \n",
       "2023-02-22  197.929993  201.990005  191.779999  200.860001  200.860001   \n",
       "\n",
       "               Volume  \n",
       "Date                   \n",
       "2023-02-15  182108600  \n",
       "2023-02-16  229586500  \n",
       "2023-02-17  213080200  \n",
       "2023-02-21  180018600  \n",
       "2023-02-22  191216800  "
      ]
     },
     "execution_count": 6,
     "metadata": {},
     "output_type": "execute_result"
    }
   ],
   "source": [
    "df_tsla.tail()"
   ]
  },
  {
   "cell_type": "code",
   "execution_count": 7,
   "id": "464b8dce",
   "metadata": {},
   "outputs": [
    {
     "data": {
      "text/plain": [
       "<AxesSubplot:xlabel='Date'>"
      ]
     },
     "execution_count": 7,
     "metadata": {},
     "output_type": "execute_result"
    },
    {
     "data": {
      "image/png": "[encoded data removed]",
      "text/plain": [
       "<Figure size 864x288 with 1 Axes>"
      ]
     },
     "metadata": {
      "needs_background": "light"
     },
     "output_type": "display_data"
    }
   ],
   "source": [
    "df_tsla['High'].plot(figsize = (12,4))"
   ]
  },
  {
   "cell_type": "code",
   "execution_count": 8,
   "id": "f365c46c",
   "metadata": {},
   "outputs": [
    {
     "data": {
      "text/plain": [
       "<AxesSubplot:xlabel='Date'>"
      ]
     },
     "execution_count": 8,
     "metadata": {},
     "output_type": "execute_result"
    },
    {
     "data": {
      "image/png": "[encoded data removed]",
      "text/plain": [
       "<Figure size 1008x288 with 1 Axes>"
      ]
     },
     "metadata": {
      "needs_background": "light"
     },
     "output_type": "display_data"
    }
   ],
   "source": [
    "## x limit and y limit\n",
    "df_tsla['High'].plot(xlim = ['2022-01-01', '2023-01-01'], figsize = (14,4))"
   ]
  },
  {
   "cell_type": "code",
   "execution_count": 9,
   "id": "341d9053",
   "metadata": {},
   "outputs": [
    {
     "data": {
      "text/plain": [
       "<AxesSubplot:xlabel='Date'>"
      ]
     },
     "execution_count": 9,
     "metadata": {},
     "output_type": "execute_result"
    },
    {
     "data": {
      "image/png": "[encoded data removed]",
      "text/plain": [
       "<Figure size 1008x288 with 1 Axes>"
      ]
     },
     "metadata": {
      "needs_background": "light"
     },
     "output_type": "display_data"
    }
   ],
   "source": [
    "## x limit and y limit\n",
    "df_tsla['High'].plot(xlim = ['2022-01-01', '2023-01-01'], ylim = [0,600], figsize = (14,4))"
   ]
  },
  {
   "cell_type": "code",
   "execution_count": 10,
   "id": "79f14f98",
   "metadata": {},
   "outputs": [
    {
     "data": {
      "text/plain": [
       "<AxesSubplot:xlabel='Date'>"
      ]
     },
     "execution_count": 10,
     "metadata": {},
     "output_type": "execute_result"
    },
    {
     "data": {
      "image/png": "[encoded data removed]",
      "text/plain": [
       "<Figure size 1008x288 with 1 Axes>"
      ]
     },
     "metadata": {
      "needs_background": "light"
     },
     "output_type": "display_data"
    }
   ],
   "source": [
    "## x limit and y limit and coloring\n",
    "df_tsla['High'].plot(xlim = ['2022-01-01', '2023-01-01'], ylim = [0,600], figsize = (14,4), ls = '--', c = 'green')"
   ]
  },
  {
   "cell_type": "code",
   "execution_count": 11,
   "id": "235e978b",
   "metadata": {},
   "outputs": [],
   "source": [
    "index = df_tsla.loc['2022-01-01':'2023-01-01'].index\n",
    "\n",
    "share_open = df_tsla.loc['2022-01-01':'2023-01-01']['Open']"
   ]
  },
  {
   "cell_type": "code",
   "execution_count": 12,
   "id": "ac35944e",
   "metadata": {},
   "outputs": [
    {
     "data": {
      "text/plain": [
       "Date\n",
       "2022-01-03    382.583344\n",
       "2022-01-04    396.516663\n",
       "2022-01-05    382.216675\n",
       "2022-01-06    359.000000\n",
       "2022-01-07    360.123322\n",
       "                 ...    \n",
       "2022-12-23    126.370003\n",
       "2022-12-27    117.500000\n",
       "2022-12-28    110.349998\n",
       "2022-12-29    120.389999\n",
       "2022-12-30    119.949997\n",
       "Name: Open, Length: 251, dtype: float64"
      ]
     },
     "execution_count": 12,
     "metadata": {},
     "output_type": "execute_result"
    }
   ],
   "source": [
    "share_open"
   ]
  },
  {
   "cell_type": "code",
   "execution_count": 13,
   "id": "14a26452",
   "metadata": {},
   "outputs": [],
   "source": [
    "import matplotlib.pyplot as plt\n",
    "%matplotlib inline"
   ]
  },
  {
   "cell_type": "code",
   "execution_count": 14,
   "id": "aa6a539a",
   "metadata": {},
   "outputs": [
    {
     "data": {
      "text/plain": [
       "[<matplotlib.lines.Line2D at 0x1880940eeb8>]"
      ]
     },
     "execution_count": 14,
     "metadata": {},
     "output_type": "execute_result"
    },
    {
     "data": {
      "image/png": "[encoded data removed]",
      "text/plain": [
       "<Figure size 432x288 with 1 Axes>"
      ]
     },
     "metadata": {
      "needs_background": "light"
     },
     "output_type": "display_data"
    }
   ],
   "source": [
    "figure, axis = plt.subplots()\n",
    "plt.tight_layout()\n",
    "\n",
    "## preventing overlapping\n",
    "figure.autofmt_xdate()\n",
    "axis.plot(index, share_open)"
   ]
  },
  {
   "cell_type": "code",
   "execution_count": 15,
   "id": "09c5d3c0",
   "metadata": {},
   "outputs": [],
   "source": [
    "## Datetime index"
   ]
  },
  {
   "cell_type": "code",
   "execution_count": 16,
   "id": "9f3bf6bc",
   "metadata": {},
   "outputs": [],
   "source": [
    "df_tsla = df_tsla.reset_index()"
   ]
  },
  {
   "cell_type": "code",
   "execution_count": 17,
   "id": "31b0684b",
   "metadata": {},
   "outputs": [
    {
     "name": "stdout",
     "output_type": "stream",
     "text": [
      "<class 'pandas.core.frame.DataFrame'>\n",
      "RangeIndex: 1258 entries, 0 to 1257\n",
      "Data columns (total 7 columns):\n",
      " #   Column     Non-Null Count  Dtype         \n",
      "---  ------     --------------  -----         \n",
      " 0   Date       1258 non-null   datetime64[ns]\n",
      " 1   Open       1258 non-null   float64       \n",
      " 2   High       1258 non-null   float64       \n",
      " 3   Low        1258 non-null   float64       \n",
      " 4   Close      1258 non-null   float64       \n",
      " 5   Adj Close  1258 non-null   float64       \n",
      " 6   Volume     1258 non-null   int64         \n",
      "dtypes: datetime64[ns](1), float64(5), int64(1)\n",
      "memory usage: 68.9 KB\n"
     ]
    }
   ],
   "source": [
    "df_tsla.info()"
   ]
  },
  {
   "cell_type": "code",
   "execution_count": 18,
   "id": "f8d26dad",
   "metadata": {},
   "outputs": [],
   "source": [
    "#pd.to_datetime(df_tsla['Date'])\n",
    "df_tsla = df_tsla.set_index('Date', drop = True)"
   ]
  },
  {
   "cell_type": "code",
   "execution_count": 19,
   "id": "1ec52108",
   "metadata": {},
   "outputs": [
    {
     "data": {
      "text/html": [
       "<div>\n",
       "<style scoped>\n",
       "    .dataframe tbody tr th:only-of-type {\n",
       "        vertical-align: middle;\n",
       "    }\n",
       "\n",
       "    .dataframe tbody tr th {\n",
       "        vertical-align: top;\n",
       "    }\n",
       "\n",
       "    .dataframe thead th {\n",
       "        text-align: right;\n",
       "    }\n",
       "</style>\n",
       "<table border=\"1\" class=\"dataframe\">\n",
       "  <thead>\n",
       "    <tr style=\"text-align: right;\">\n",
       "      <th></th>\n",
       "      <th>Open</th>\n",
       "      <th>High</th>\n",
       "      <th>Low</th>\n",
       "      <th>Close</th>\n",
       "      <th>Adj Close</th>\n",
       "      <th>Volume</th>\n",
       "    </tr>\n",
       "    <tr>\n",
       "      <th>Date</th>\n",
       "      <th></th>\n",
       "      <th></th>\n",
       "      <th></th>\n",
       "      <th></th>\n",
       "      <th></th>\n",
       "      <th></th>\n",
       "    </tr>\n",
       "  </thead>\n",
       "  <tbody>\n",
       "    <tr>\n",
       "      <th>2018-02-23</th>\n",
       "      <td>23.188667</td>\n",
       "      <td>23.666000</td>\n",
       "      <td>23.139999</td>\n",
       "      <td>23.469999</td>\n",
       "      <td>23.469999</td>\n",
       "      <td>87261000</td>\n",
       "    </tr>\n",
       "    <tr>\n",
       "      <th>2018-02-26</th>\n",
       "      <td>23.566668</td>\n",
       "      <td>23.933332</td>\n",
       "      <td>23.490667</td>\n",
       "      <td>23.827999</td>\n",
       "      <td>23.827999</td>\n",
       "      <td>65100000</td>\n",
       "    </tr>\n",
       "    <tr>\n",
       "      <th>2018-02-27</th>\n",
       "      <td>23.750000</td>\n",
       "      <td>23.999332</td>\n",
       "      <td>23.334000</td>\n",
       "      <td>23.399332</td>\n",
       "      <td>23.399332</td>\n",
       "      <td>71961000</td>\n",
       "    </tr>\n",
       "    <tr>\n",
       "      <th>2018-02-28</th>\n",
       "      <td>23.504667</td>\n",
       "      <td>23.682667</td>\n",
       "      <td>22.814667</td>\n",
       "      <td>22.870667</td>\n",
       "      <td>22.870667</td>\n",
       "      <td>91045500</td>\n",
       "    </tr>\n",
       "    <tr>\n",
       "      <th>2018-03-01</th>\n",
       "      <td>23.000668</td>\n",
       "      <td>23.244667</td>\n",
       "      <td>22.004667</td>\n",
       "      <td>22.062000</td>\n",
       "      <td>22.062000</td>\n",
       "      <td>103284000</td>\n",
       "    </tr>\n",
       "  </tbody>\n",
       "</table>\n",
       "</div>"
      ],
      "text/plain": [
       "                 Open       High        Low      Close  Adj Close     Volume\n",
       "Date                                                                        \n",
       "2018-02-23  23.188667  23.666000  23.139999  23.469999  23.469999   87261000\n",
       "2018-02-26  23.566668  23.933332  23.490667  23.827999  23.827999   65100000\n",
       "2018-02-27  23.750000  23.999332  23.334000  23.399332  23.399332   71961000\n",
       "2018-02-28  23.504667  23.682667  22.814667  22.870667  22.870667   91045500\n",
       "2018-03-01  23.000668  23.244667  22.004667  22.062000  22.062000  103284000"
      ]
     },
     "execution_count": 19,
     "metadata": {},
     "output_type": "execute_result"
    }
   ],
   "source": [
    "df_tsla.head()"
   ]
  },
  {
   "cell_type": "code",
   "execution_count": 20,
   "id": "12d85145",
   "metadata": {},
   "outputs": [],
   "source": [
    "## datetime\n",
    "from datetime import datetime"
   ]
  },
  {
   "cell_type": "code",
   "execution_count": 21,
   "id": "d8c876c6",
   "metadata": {},
   "outputs": [
    {
     "data": {
      "text/plain": [
       "datetime.datetime(2021, 11, 21, 0, 0)"
      ]
     },
     "execution_count": 21,
     "metadata": {},
     "output_type": "execute_result"
    }
   ],
   "source": [
    "datetime(2021,11,21)"
   ]
  },
  {
   "cell_type": "code",
   "execution_count": 22,
   "id": "6a156671",
   "metadata": {},
   "outputs": [
    {
     "data": {
      "text/plain": [
       "datetime.datetime(2023, 2, 23, 14, 6, 20, 55293)"
      ]
     },
     "execution_count": 22,
     "metadata": {},
     "output_type": "execute_result"
    }
   ],
   "source": [
    "datetime.now()"
   ]
  },
  {
   "cell_type": "code",
   "execution_count": 23,
   "id": "9c7b7701",
   "metadata": {},
   "outputs": [],
   "source": [
    "date = datetime(2021,11,21)"
   ]
  },
  {
   "cell_type": "code",
   "execution_count": 24,
   "id": "a000d7f3",
   "metadata": {},
   "outputs": [
    {
     "data": {
      "text/plain": [
       "datetime.datetime(2021, 11, 21, 0, 0)"
      ]
     },
     "execution_count": 24,
     "metadata": {},
     "output_type": "execute_result"
    }
   ],
   "source": [
    "date"
   ]
  },
  {
   "cell_type": "code",
   "execution_count": 25,
   "id": "5b85a211",
   "metadata": {},
   "outputs": [
    {
     "data": {
      "text/plain": [
       "datetime.date(2021, 11, 21)"
      ]
     },
     "execution_count": 25,
     "metadata": {},
     "output_type": "execute_result"
    }
   ],
   "source": [
    "date.date()"
   ]
  },
  {
   "cell_type": "code",
   "execution_count": 26,
   "id": "289ea8e5",
   "metadata": {},
   "outputs": [
    {
     "data": {
      "text/plain": [
       "21"
      ]
     },
     "execution_count": 26,
     "metadata": {},
     "output_type": "execute_result"
    }
   ],
   "source": [
    "date.day"
   ]
  },
  {
   "cell_type": "code",
   "execution_count": 27,
   "id": "4d4fc554",
   "metadata": {},
   "outputs": [
    {
     "data": {
      "text/plain": [
       "6"
      ]
     },
     "execution_count": 27,
     "metadata": {},
     "output_type": "execute_result"
    }
   ],
   "source": [
    "date.weekday()"
   ]
  },
  {
   "cell_type": "code",
   "execution_count": 28,
   "id": "01ad7523",
   "metadata": {},
   "outputs": [
    {
     "data": {
      "text/plain": [
       "2021"
      ]
     },
     "execution_count": 28,
     "metadata": {},
     "output_type": "execute_result"
    }
   ],
   "source": [
    "date.year"
   ]
  },
  {
   "cell_type": "code",
   "execution_count": 29,
   "id": "f1725776",
   "metadata": {},
   "outputs": [
    {
     "data": {
      "text/plain": [
       "11"
      ]
     },
     "execution_count": 29,
     "metadata": {},
     "output_type": "execute_result"
    }
   ],
   "source": [
    "date.month"
   ]
  },
  {
   "cell_type": "markdown",
   "id": "a5810aff",
   "metadata": {},
   "source": [
    "### Time Resampling"
   ]
  },
  {
   "cell_type": "code",
   "execution_count": 30,
   "id": "6afb22f4",
   "metadata": {},
   "outputs": [
    {
     "data": {
      "text/html": [
       "<div>\n",
       "<style scoped>\n",
       "    .dataframe tbody tr th:only-of-type {\n",
       "        vertical-align: middle;\n",
       "    }\n",
       "\n",
       "    .dataframe tbody tr th {\n",
       "        vertical-align: top;\n",
       "    }\n",
       "\n",
       "    .dataframe thead th {\n",
       "        text-align: right;\n",
       "    }\n",
       "</style>\n",
       "<table border=\"1\" class=\"dataframe\">\n",
       "  <thead>\n",
       "    <tr style=\"text-align: right;\">\n",
       "      <th></th>\n",
       "      <th>Open</th>\n",
       "      <th>High</th>\n",
       "      <th>Low</th>\n",
       "      <th>Close</th>\n",
       "      <th>Adj Close</th>\n",
       "      <th>Volume</th>\n",
       "    </tr>\n",
       "    <tr>\n",
       "      <th>Date</th>\n",
       "      <th></th>\n",
       "      <th></th>\n",
       "      <th></th>\n",
       "      <th></th>\n",
       "      <th></th>\n",
       "      <th></th>\n",
       "    </tr>\n",
       "  </thead>\n",
       "  <tbody>\n",
       "    <tr>\n",
       "      <th>2018-02-23</th>\n",
       "      <td>23.188667</td>\n",
       "      <td>23.666000</td>\n",
       "      <td>23.139999</td>\n",
       "      <td>23.469999</td>\n",
       "      <td>23.469999</td>\n",
       "      <td>87261000</td>\n",
       "    </tr>\n",
       "    <tr>\n",
       "      <th>2018-02-26</th>\n",
       "      <td>23.566668</td>\n",
       "      <td>23.933332</td>\n",
       "      <td>23.490667</td>\n",
       "      <td>23.827999</td>\n",
       "      <td>23.827999</td>\n",
       "      <td>65100000</td>\n",
       "    </tr>\n",
       "    <tr>\n",
       "      <th>2018-02-27</th>\n",
       "      <td>23.750000</td>\n",
       "      <td>23.999332</td>\n",
       "      <td>23.334000</td>\n",
       "      <td>23.399332</td>\n",
       "      <td>23.399332</td>\n",
       "      <td>71961000</td>\n",
       "    </tr>\n",
       "    <tr>\n",
       "      <th>2018-02-28</th>\n",
       "      <td>23.504667</td>\n",
       "      <td>23.682667</td>\n",
       "      <td>22.814667</td>\n",
       "      <td>22.870667</td>\n",
       "      <td>22.870667</td>\n",
       "      <td>91045500</td>\n",
       "    </tr>\n",
       "    <tr>\n",
       "      <th>2018-03-01</th>\n",
       "      <td>23.000668</td>\n",
       "      <td>23.244667</td>\n",
       "      <td>22.004667</td>\n",
       "      <td>22.062000</td>\n",
       "      <td>22.062000</td>\n",
       "      <td>103284000</td>\n",
       "    </tr>\n",
       "  </tbody>\n",
       "</table>\n",
       "</div>"
      ],
      "text/plain": [
       "                 Open       High        Low      Close  Adj Close     Volume\n",
       "Date                                                                        \n",
       "2018-02-23  23.188667  23.666000  23.139999  23.469999  23.469999   87261000\n",
       "2018-02-26  23.566668  23.933332  23.490667  23.827999  23.827999   65100000\n",
       "2018-02-27  23.750000  23.999332  23.334000  23.399332  23.399332   71961000\n",
       "2018-02-28  23.504667  23.682667  22.814667  22.870667  22.870667   91045500\n",
       "2018-03-01  23.000668  23.244667  22.004667  22.062000  22.062000  103284000"
      ]
     },
     "execution_count": 30,
     "metadata": {},
     "output_type": "execute_result"
    }
   ],
   "source": [
    "df_tsla.head()"
   ]
  },
  {
   "cell_type": "code",
   "execution_count": 31,
   "id": "23d69b96",
   "metadata": {},
   "outputs": [
    {
     "data": {
      "text/html": [
       "<div>\n",
       "<style scoped>\n",
       "    .dataframe tbody tr th:only-of-type {\n",
       "        vertical-align: middle;\n",
       "    }\n",
       "\n",
       "    .dataframe tbody tr th {\n",
       "        vertical-align: top;\n",
       "    }\n",
       "\n",
       "    .dataframe thead th {\n",
       "        text-align: right;\n",
       "    }\n",
       "</style>\n",
       "<table border=\"1\" class=\"dataframe\">\n",
       "  <thead>\n",
       "    <tr style=\"text-align: right;\">\n",
       "      <th></th>\n",
       "      <th>Open</th>\n",
       "      <th>High</th>\n",
       "      <th>Low</th>\n",
       "      <th>Close</th>\n",
       "      <th>Adj Close</th>\n",
       "      <th>Volume</th>\n",
       "    </tr>\n",
       "    <tr>\n",
       "      <th>Date</th>\n",
       "      <th></th>\n",
       "      <th></th>\n",
       "      <th></th>\n",
       "      <th></th>\n",
       "      <th></th>\n",
       "      <th></th>\n",
       "    </tr>\n",
       "  </thead>\n",
       "  <tbody>\n",
       "    <tr>\n",
       "      <th>2018-12-31</th>\n",
       "      <td>16.851999</td>\n",
       "      <td>17.355333</td>\n",
       "      <td>16.306000</td>\n",
       "      <td>16.704000</td>\n",
       "      <td>16.704000</td>\n",
       "      <td>46210500</td>\n",
       "    </tr>\n",
       "    <tr>\n",
       "      <th>2019-12-31</th>\n",
       "      <td>12.073333</td>\n",
       "      <td>12.445333</td>\n",
       "      <td>11.799333</td>\n",
       "      <td>11.931333</td>\n",
       "      <td>11.931333</td>\n",
       "      <td>36984000</td>\n",
       "    </tr>\n",
       "    <tr>\n",
       "      <th>2020-12-31</th>\n",
       "      <td>24.980000</td>\n",
       "      <td>26.990667</td>\n",
       "      <td>23.367332</td>\n",
       "      <td>24.081333</td>\n",
       "      <td>24.081333</td>\n",
       "      <td>52073100</td>\n",
       "    </tr>\n",
       "    <tr>\n",
       "      <th>2021-12-31</th>\n",
       "      <td>184.183334</td>\n",
       "      <td>188.736664</td>\n",
       "      <td>179.830002</td>\n",
       "      <td>187.666672</td>\n",
       "      <td>187.666672</td>\n",
       "      <td>29401800</td>\n",
       "    </tr>\n",
       "    <tr>\n",
       "      <th>2022-12-31</th>\n",
       "      <td>110.349998</td>\n",
       "      <td>116.269997</td>\n",
       "      <td>108.239998</td>\n",
       "      <td>109.099998</td>\n",
       "      <td>109.099998</td>\n",
       "      <td>41864700</td>\n",
       "    </tr>\n",
       "    <tr>\n",
       "      <th>2023-12-31</th>\n",
       "      <td>103.000000</td>\n",
       "      <td>111.750000</td>\n",
       "      <td>101.809998</td>\n",
       "      <td>108.099998</td>\n",
       "      <td>108.099998</td>\n",
       "      <td>138429900</td>\n",
       "    </tr>\n",
       "  </tbody>\n",
       "</table>\n",
       "</div>"
      ],
      "text/plain": [
       "                  Open        High         Low       Close   Adj Close  \\\n",
       "Date                                                                     \n",
       "2018-12-31   16.851999   17.355333   16.306000   16.704000   16.704000   \n",
       "2019-12-31   12.073333   12.445333   11.799333   11.931333   11.931333   \n",
       "2020-12-31   24.980000   26.990667   23.367332   24.081333   24.081333   \n",
       "2021-12-31  184.183334  188.736664  179.830002  187.666672  187.666672   \n",
       "2022-12-31  110.349998  116.269997  108.239998  109.099998  109.099998   \n",
       "2023-12-31  103.000000  111.750000  101.809998  108.099998  108.099998   \n",
       "\n",
       "               Volume  \n",
       "Date                   \n",
       "2018-12-31   46210500  \n",
       "2019-12-31   36984000  \n",
       "2020-12-31   52073100  \n",
       "2021-12-31   29401800  \n",
       "2022-12-31   41864700  \n",
       "2023-12-31  138429900  "
      ]
     },
     "execution_count": 31,
     "metadata": {},
     "output_type": "execute_result"
    }
   ],
   "source": [
    "df_tsla.resample(rule = 'A').min()  #rule A year end frequency"
   ]
  },
  {
   "cell_type": "code",
   "execution_count": 32,
   "id": "6b248a57",
   "metadata": {},
   "outputs": [
    {
     "data": {
      "text/html": [
       "<div>\n",
       "<style scoped>\n",
       "    .dataframe tbody tr th:only-of-type {\n",
       "        vertical-align: middle;\n",
       "    }\n",
       "\n",
       "    .dataframe tbody tr th {\n",
       "        vertical-align: top;\n",
       "    }\n",
       "\n",
       "    .dataframe thead th {\n",
       "        text-align: right;\n",
       "    }\n",
       "</style>\n",
       "<table border=\"1\" class=\"dataframe\">\n",
       "  <thead>\n",
       "    <tr style=\"text-align: right;\">\n",
       "      <th></th>\n",
       "      <th>Open</th>\n",
       "      <th>High</th>\n",
       "      <th>Low</th>\n",
       "      <th>Close</th>\n",
       "      <th>Adj Close</th>\n",
       "      <th>Volume</th>\n",
       "    </tr>\n",
       "    <tr>\n",
       "      <th>Date</th>\n",
       "      <th></th>\n",
       "      <th></th>\n",
       "      <th></th>\n",
       "      <th></th>\n",
       "      <th></th>\n",
       "      <th></th>\n",
       "    </tr>\n",
       "  </thead>\n",
       "  <tbody>\n",
       "    <tr>\n",
       "      <th>2018-12-31</th>\n",
       "      <td>25.000000</td>\n",
       "      <td>25.830667</td>\n",
       "      <td>24.474667</td>\n",
       "      <td>25.304667</td>\n",
       "      <td>25.304667</td>\n",
       "      <td>504745500</td>\n",
       "    </tr>\n",
       "    <tr>\n",
       "      <th>2019-12-31</th>\n",
       "      <td>29.000000</td>\n",
       "      <td>29.020666</td>\n",
       "      <td>28.423332</td>\n",
       "      <td>28.729334</td>\n",
       "      <td>28.729334</td>\n",
       "      <td>450091500</td>\n",
       "    </tr>\n",
       "    <tr>\n",
       "      <th>2020-12-31</th>\n",
       "      <td>233.330002</td>\n",
       "      <td>239.573334</td>\n",
       "      <td>230.373337</td>\n",
       "      <td>235.223328</td>\n",
       "      <td>235.223328</td>\n",
       "      <td>914082000</td>\n",
       "    </tr>\n",
       "    <tr>\n",
       "      <th>2021-12-31</th>\n",
       "      <td>411.470001</td>\n",
       "      <td>414.496674</td>\n",
       "      <td>405.666656</td>\n",
       "      <td>409.970001</td>\n",
       "      <td>409.970001</td>\n",
       "      <td>268189500</td>\n",
       "    </tr>\n",
       "    <tr>\n",
       "      <th>2022-12-31</th>\n",
       "      <td>396.516663</td>\n",
       "      <td>402.666656</td>\n",
       "      <td>378.679993</td>\n",
       "      <td>399.926666</td>\n",
       "      <td>399.926666</td>\n",
       "      <td>221923300</td>\n",
       "    </tr>\n",
       "    <tr>\n",
       "      <th>2023-12-31</th>\n",
       "      <td>211.759995</td>\n",
       "      <td>217.649994</td>\n",
       "      <td>206.110001</td>\n",
       "      <td>214.240005</td>\n",
       "      <td>214.240005</td>\n",
       "      <td>305632100</td>\n",
       "    </tr>\n",
       "  </tbody>\n",
       "</table>\n",
       "</div>"
      ],
      "text/plain": [
       "                  Open        High         Low       Close   Adj Close  \\\n",
       "Date                                                                     \n",
       "2018-12-31   25.000000   25.830667   24.474667   25.304667   25.304667   \n",
       "2019-12-31   29.000000   29.020666   28.423332   28.729334   28.729334   \n",
       "2020-12-31  233.330002  239.573334  230.373337  235.223328  235.223328   \n",
       "2021-12-31  411.470001  414.496674  405.666656  409.970001  409.970001   \n",
       "2022-12-31  396.516663  402.666656  378.679993  399.926666  399.926666   \n",
       "2023-12-31  211.759995  217.649994  206.110001  214.240005  214.240005   \n",
       "\n",
       "               Volume  \n",
       "Date                   \n",
       "2018-12-31  504745500  \n",
       "2019-12-31  450091500  \n",
       "2020-12-31  914082000  \n",
       "2021-12-31  268189500  \n",
       "2022-12-31  221923300  \n",
       "2023-12-31  305632100  "
      ]
     },
     "execution_count": 32,
     "metadata": {},
     "output_type": "execute_result"
    }
   ],
   "source": [
    "df_tsla.resample(rule = 'A').max()"
   ]
  },
  {
   "cell_type": "code",
   "execution_count": 33,
   "id": "5c75326f",
   "metadata": {},
   "outputs": [
    {
     "data": {
      "text/plain": [
       "<AxesSubplot:xlabel='Date'>"
      ]
     },
     "execution_count": 33,
     "metadata": {},
     "output_type": "execute_result"
    },
    {
     "data": {
      "image/png": "[encoded data removed]",
      "text/plain": [
       "<Figure size 432x288 with 1 Axes>"
      ]
     },
     "metadata": {
      "needs_background": "light"
     },
     "output_type": "display_data"
    }
   ],
   "source": [
    "df_tsla.resample(rule = 'A').max()['Open'].plot()"
   ]
  },
  {
   "cell_type": "code",
   "execution_count": 34,
   "id": "1355bf62",
   "metadata": {},
   "outputs": [
    {
     "data": {
      "text/html": [
       "<div>\n",
       "<style scoped>\n",
       "    .dataframe tbody tr th:only-of-type {\n",
       "        vertical-align: middle;\n",
       "    }\n",
       "\n",
       "    .dataframe tbody tr th {\n",
       "        vertical-align: top;\n",
       "    }\n",
       "\n",
       "    .dataframe thead th {\n",
       "        text-align: right;\n",
       "    }\n",
       "</style>\n",
       "<table border=\"1\" class=\"dataframe\">\n",
       "  <thead>\n",
       "    <tr style=\"text-align: right;\">\n",
       "      <th></th>\n",
       "      <th>Open</th>\n",
       "      <th>High</th>\n",
       "      <th>Low</th>\n",
       "      <th>Close</th>\n",
       "      <th>Adj Close</th>\n",
       "      <th>Volume</th>\n",
       "    </tr>\n",
       "    <tr>\n",
       "      <th>Date</th>\n",
       "      <th></th>\n",
       "      <th></th>\n",
       "      <th></th>\n",
       "      <th></th>\n",
       "      <th></th>\n",
       "      <th></th>\n",
       "    </tr>\n",
       "  </thead>\n",
       "  <tbody>\n",
       "    <tr>\n",
       "      <th>2018-01-01</th>\n",
       "      <td>23.750000</td>\n",
       "      <td>23.999332</td>\n",
       "      <td>23.490667</td>\n",
       "      <td>23.827999</td>\n",
       "      <td>23.827999</td>\n",
       "      <td>315021000</td>\n",
       "    </tr>\n",
       "    <tr>\n",
       "      <th>2018-04-01</th>\n",
       "      <td>24.344000</td>\n",
       "      <td>24.915333</td>\n",
       "      <td>23.633333</td>\n",
       "      <td>24.722000</td>\n",
       "      <td>24.722000</td>\n",
       "      <td>335211000</td>\n",
       "    </tr>\n",
       "    <tr>\n",
       "      <th>2018-07-01</th>\n",
       "      <td>24.606001</td>\n",
       "      <td>25.830667</td>\n",
       "      <td>24.474667</td>\n",
       "      <td>25.304667</td>\n",
       "      <td>25.304667</td>\n",
       "      <td>504745500</td>\n",
       "    </tr>\n",
       "    <tr>\n",
       "      <th>2018-10-01</th>\n",
       "      <td>25.000000</td>\n",
       "      <td>25.299334</td>\n",
       "      <td>24.450001</td>\n",
       "      <td>25.119333</td>\n",
       "      <td>25.119333</td>\n",
       "      <td>411382500</td>\n",
       "    </tr>\n",
       "    <tr>\n",
       "      <th>2019-01-01</th>\n",
       "      <td>23.080667</td>\n",
       "      <td>23.466667</td>\n",
       "      <td>22.943333</td>\n",
       "      <td>23.153999</td>\n",
       "      <td>23.153999</td>\n",
       "      <td>362262000</td>\n",
       "    </tr>\n",
       "    <tr>\n",
       "      <th>2019-04-01</th>\n",
       "      <td>19.219999</td>\n",
       "      <td>19.744667</td>\n",
       "      <td>19.144667</td>\n",
       "      <td>19.454000</td>\n",
       "      <td>19.454000</td>\n",
       "      <td>398206500</td>\n",
       "    </tr>\n",
       "    <tr>\n",
       "      <th>2019-07-01</th>\n",
       "      <td>17.278000</td>\n",
       "      <td>17.738001</td>\n",
       "      <td>17.210667</td>\n",
       "      <td>17.658667</td>\n",
       "      <td>17.658667</td>\n",
       "      <td>336274500</td>\n",
       "    </tr>\n",
       "    <tr>\n",
       "      <th>2019-10-01</th>\n",
       "      <td>29.000000</td>\n",
       "      <td>29.020666</td>\n",
       "      <td>28.423332</td>\n",
       "      <td>28.729334</td>\n",
       "      <td>28.729334</td>\n",
       "      <td>450091500</td>\n",
       "    </tr>\n",
       "    <tr>\n",
       "      <th>2020-01-01</th>\n",
       "      <td>61.566666</td>\n",
       "      <td>64.599335</td>\n",
       "      <td>60.068001</td>\n",
       "      <td>61.161331</td>\n",
       "      <td>61.161331</td>\n",
       "      <td>914082000</td>\n",
       "    </tr>\n",
       "    <tr>\n",
       "      <th>2020-04-01</th>\n",
       "      <td>67.518669</td>\n",
       "      <td>72.512665</td>\n",
       "      <td>66.915337</td>\n",
       "      <td>71.987335</td>\n",
       "      <td>71.987335</td>\n",
       "      <td>487977000</td>\n",
       "    </tr>\n",
       "    <tr>\n",
       "      <th>2020-07-01</th>\n",
       "      <td>167.380005</td>\n",
       "      <td>167.496674</td>\n",
       "      <td>156.836670</td>\n",
       "      <td>166.106674</td>\n",
       "      <td>166.106674</td>\n",
       "      <td>584781000</td>\n",
       "    </tr>\n",
       "    <tr>\n",
       "      <th>2020-10-01</th>\n",
       "      <td>233.330002</td>\n",
       "      <td>239.573334</td>\n",
       "      <td>230.373337</td>\n",
       "      <td>235.223328</td>\n",
       "      <td>235.223328</td>\n",
       "      <td>666378600</td>\n",
       "    </tr>\n",
       "    <tr>\n",
       "      <th>2021-01-01</th>\n",
       "      <td>297.126678</td>\n",
       "      <td>300.133331</td>\n",
       "      <td>290.533325</td>\n",
       "      <td>294.363342</td>\n",
       "      <td>294.363342</td>\n",
       "      <td>268189500</td>\n",
       "    </tr>\n",
       "    <tr>\n",
       "      <th>2021-04-01</th>\n",
       "      <td>256.899994</td>\n",
       "      <td>260.263336</td>\n",
       "      <td>244.203339</td>\n",
       "      <td>254.106674</td>\n",
       "      <td>254.106674</td>\n",
       "      <td>147052200</td>\n",
       "    </tr>\n",
       "    <tr>\n",
       "      <th>2021-07-01</th>\n",
       "      <td>262.399994</td>\n",
       "      <td>266.333344</td>\n",
       "      <td>258.333344</td>\n",
       "      <td>263.786682</td>\n",
       "      <td>263.786682</td>\n",
       "      <td>100847400</td>\n",
       "    </tr>\n",
       "    <tr>\n",
       "      <th>2021-10-01</th>\n",
       "      <td>411.470001</td>\n",
       "      <td>414.496674</td>\n",
       "      <td>405.666656</td>\n",
       "      <td>409.970001</td>\n",
       "      <td>409.970001</td>\n",
       "      <td>188556300</td>\n",
       "    </tr>\n",
       "    <tr>\n",
       "      <th>2022-01-01</th>\n",
       "      <td>396.516663</td>\n",
       "      <td>402.666656</td>\n",
       "      <td>378.679993</td>\n",
       "      <td>399.926666</td>\n",
       "      <td>399.926666</td>\n",
       "      <td>151565700</td>\n",
       "    </tr>\n",
       "    <tr>\n",
       "      <th>2022-04-01</th>\n",
       "      <td>378.766663</td>\n",
       "      <td>384.290009</td>\n",
       "      <td>362.433319</td>\n",
       "      <td>381.816681</td>\n",
       "      <td>381.816681</td>\n",
       "      <td>144973200</td>\n",
       "    </tr>\n",
       "    <tr>\n",
       "      <th>2022-07-01</th>\n",
       "      <td>311.666656</td>\n",
       "      <td>314.666656</td>\n",
       "      <td>305.579987</td>\n",
       "      <td>309.320007</td>\n",
       "      <td>309.320007</td>\n",
       "      <td>142032300</td>\n",
       "    </tr>\n",
       "    <tr>\n",
       "      <th>2022-10-01</th>\n",
       "      <td>254.500000</td>\n",
       "      <td>257.500000</td>\n",
       "      <td>242.009995</td>\n",
       "      <td>249.440002</td>\n",
       "      <td>249.440002</td>\n",
       "      <td>221923300</td>\n",
       "    </tr>\n",
       "    <tr>\n",
       "      <th>2023-01-01</th>\n",
       "      <td>211.759995</td>\n",
       "      <td>217.649994</td>\n",
       "      <td>206.110001</td>\n",
       "      <td>214.240005</td>\n",
       "      <td>214.240005</td>\n",
       "      <td>305632100</td>\n",
       "    </tr>\n",
       "  </tbody>\n",
       "</table>\n",
       "</div>"
      ],
      "text/plain": [
       "                  Open        High         Low       Close   Adj Close  \\\n",
       "Date                                                                     \n",
       "2018-01-01   23.750000   23.999332   23.490667   23.827999   23.827999   \n",
       "2018-04-01   24.344000   24.915333   23.633333   24.722000   24.722000   \n",
       "2018-07-01   24.606001   25.830667   24.474667   25.304667   25.304667   \n",
       "2018-10-01   25.000000   25.299334   24.450001   25.119333   25.119333   \n",
       "2019-01-01   23.080667   23.466667   22.943333   23.153999   23.153999   \n",
       "2019-04-01   19.219999   19.744667   19.144667   19.454000   19.454000   \n",
       "2019-07-01   17.278000   17.738001   17.210667   17.658667   17.658667   \n",
       "2019-10-01   29.000000   29.020666   28.423332   28.729334   28.729334   \n",
       "2020-01-01   61.566666   64.599335   60.068001   61.161331   61.161331   \n",
       "2020-04-01   67.518669   72.512665   66.915337   71.987335   71.987335   \n",
       "2020-07-01  167.380005  167.496674  156.836670  166.106674  166.106674   \n",
       "2020-10-01  233.330002  239.573334  230.373337  235.223328  235.223328   \n",
       "2021-01-01  297.126678  300.133331  290.533325  294.363342  294.363342   \n",
       "2021-04-01  256.899994  260.263336  244.203339  254.106674  254.106674   \n",
       "2021-07-01  262.399994  266.333344  258.333344  263.786682  263.786682   \n",
       "2021-10-01  411.470001  414.496674  405.666656  409.970001  409.970001   \n",
       "2022-01-01  396.516663  402.666656  378.679993  399.926666  399.926666   \n",
       "2022-04-01  378.766663  384.290009  362.433319  381.816681  381.816681   \n",
       "2022-07-01  311.666656  314.666656  305.579987  309.320007  309.320007   \n",
       "2022-10-01  254.500000  257.500000  242.009995  249.440002  249.440002   \n",
       "2023-01-01  211.759995  217.649994  206.110001  214.240005  214.240005   \n",
       "\n",
       "               Volume  \n",
       "Date                   \n",
       "2018-01-01  315021000  \n",
       "2018-04-01  335211000  \n",
       "2018-07-01  504745500  \n",
       "2018-10-01  411382500  \n",
       "2019-01-01  362262000  \n",
       "2019-04-01  398206500  \n",
       "2019-07-01  336274500  \n",
       "2019-10-01  450091500  \n",
       "2020-01-01  914082000  \n",
       "2020-04-01  487977000  \n",
       "2020-07-01  584781000  \n",
       "2020-10-01  666378600  \n",
       "2021-01-01  268189500  \n",
       "2021-04-01  147052200  \n",
       "2021-07-01  100847400  \n",
       "2021-10-01  188556300  \n",
       "2022-01-01  151565700  \n",
       "2022-04-01  144973200  \n",
       "2022-07-01  142032300  \n",
       "2022-10-01  221923300  \n",
       "2023-01-01  305632100  "
      ]
     },
     "execution_count": 34,
     "metadata": {},
     "output_type": "execute_result"
    }
   ],
   "source": [
    "#quarterly start frequency\n",
    "\n",
    "df_tsla.resample(rule = 'QS').max()"
   ]
  },
  {
   "cell_type": "code",
   "execution_count": 35,
   "id": "8c88e342",
   "metadata": {},
   "outputs": [
    {
     "data": {
      "text/plain": [
       "<AxesSubplot:xlabel='Date'>"
      ]
     },
     "execution_count": 35,
     "metadata": {},
     "output_type": "execute_result"
    },
    {
     "data": {
      "image/png": "[encoded data removed]",
      "text/plain": [
       "<Figure size 432x288 with 1 Axes>"
      ]
     },
     "metadata": {
      "needs_background": "light"
     },
     "output_type": "display_data"
    }
   ],
   "source": [
    "df_tsla.resample(rule = 'QS').max()['High'].plot()"
   ]
  },
  {
   "cell_type": "code",
   "execution_count": 36,
   "id": "7877260a",
   "metadata": {},
   "outputs": [
    {
     "data": {
      "text/plain": [
       "<AxesSubplot:xlabel='Date'>"
      ]
     },
     "execution_count": 36,
     "metadata": {},
     "output_type": "execute_result"
    },
    {
     "data": {
      "image/png": "[encoded data removed]",
      "text/plain": [
       "<Figure size 432x288 with 1 Axes>"
      ]
     },
     "metadata": {
      "needs_background": "light"
     },
     "output_type": "display_data"
    }
   ],
   "source": [
    "##Business End frequency\n",
    "df_tsla.resample(rule = 'BA').max()['High'].plot()"
   ]
  },
  {
   "cell_type": "code",
   "execution_count": 37,
   "id": "9cdd5e5b",
   "metadata": {},
   "outputs": [
    {
     "data": {
      "text/html": [
       "<div>\n",
       "<style scoped>\n",
       "    .dataframe tbody tr th:only-of-type {\n",
       "        vertical-align: middle;\n",
       "    }\n",
       "\n",
       "    .dataframe tbody tr th {\n",
       "        vertical-align: top;\n",
       "    }\n",
       "\n",
       "    .dataframe thead th {\n",
       "        text-align: right;\n",
       "    }\n",
       "</style>\n",
       "<table border=\"1\" class=\"dataframe\">\n",
       "  <thead>\n",
       "    <tr style=\"text-align: right;\">\n",
       "      <th></th>\n",
       "      <th>Open</th>\n",
       "      <th>High</th>\n",
       "      <th>Low</th>\n",
       "      <th>Close</th>\n",
       "      <th>Adj Close</th>\n",
       "      <th>Volume</th>\n",
       "    </tr>\n",
       "    <tr>\n",
       "      <th>Date</th>\n",
       "      <th></th>\n",
       "      <th></th>\n",
       "      <th></th>\n",
       "      <th></th>\n",
       "      <th></th>\n",
       "      <th></th>\n",
       "    </tr>\n",
       "  </thead>\n",
       "  <tbody>\n",
       "    <tr>\n",
       "      <th>2018-01-01</th>\n",
       "      <td>23.750000</td>\n",
       "      <td>23.999332</td>\n",
       "      <td>23.490667</td>\n",
       "      <td>23.827999</td>\n",
       "      <td>23.827999</td>\n",
       "      <td>315021000</td>\n",
       "    </tr>\n",
       "    <tr>\n",
       "      <th>2018-04-02</th>\n",
       "      <td>24.344000</td>\n",
       "      <td>24.915333</td>\n",
       "      <td>23.633333</td>\n",
       "      <td>24.722000</td>\n",
       "      <td>24.722000</td>\n",
       "      <td>335211000</td>\n",
       "    </tr>\n",
       "    <tr>\n",
       "      <th>2018-07-02</th>\n",
       "      <td>24.606001</td>\n",
       "      <td>25.830667</td>\n",
       "      <td>24.474667</td>\n",
       "      <td>25.304667</td>\n",
       "      <td>25.304667</td>\n",
       "      <td>504745500</td>\n",
       "    </tr>\n",
       "    <tr>\n",
       "      <th>2018-10-01</th>\n",
       "      <td>25.000000</td>\n",
       "      <td>25.299334</td>\n",
       "      <td>24.450001</td>\n",
       "      <td>25.119333</td>\n",
       "      <td>25.119333</td>\n",
       "      <td>411382500</td>\n",
       "    </tr>\n",
       "    <tr>\n",
       "      <th>2019-01-01</th>\n",
       "      <td>23.080667</td>\n",
       "      <td>23.466667</td>\n",
       "      <td>22.943333</td>\n",
       "      <td>23.153999</td>\n",
       "      <td>23.153999</td>\n",
       "      <td>362262000</td>\n",
       "    </tr>\n",
       "    <tr>\n",
       "      <th>2019-04-01</th>\n",
       "      <td>19.219999</td>\n",
       "      <td>19.744667</td>\n",
       "      <td>19.144667</td>\n",
       "      <td>19.454000</td>\n",
       "      <td>19.454000</td>\n",
       "      <td>398206500</td>\n",
       "    </tr>\n",
       "    <tr>\n",
       "      <th>2019-07-01</th>\n",
       "      <td>17.278000</td>\n",
       "      <td>17.738001</td>\n",
       "      <td>17.210667</td>\n",
       "      <td>17.658667</td>\n",
       "      <td>17.658667</td>\n",
       "      <td>336274500</td>\n",
       "    </tr>\n",
       "    <tr>\n",
       "      <th>2019-10-01</th>\n",
       "      <td>29.000000</td>\n",
       "      <td>29.020666</td>\n",
       "      <td>28.423332</td>\n",
       "      <td>28.729334</td>\n",
       "      <td>28.729334</td>\n",
       "      <td>450091500</td>\n",
       "    </tr>\n",
       "    <tr>\n",
       "      <th>2020-01-01</th>\n",
       "      <td>61.566666</td>\n",
       "      <td>64.599335</td>\n",
       "      <td>60.068001</td>\n",
       "      <td>61.161331</td>\n",
       "      <td>61.161331</td>\n",
       "      <td>914082000</td>\n",
       "    </tr>\n",
       "    <tr>\n",
       "      <th>2020-04-01</th>\n",
       "      <td>67.518669</td>\n",
       "      <td>72.512665</td>\n",
       "      <td>66.915337</td>\n",
       "      <td>71.987335</td>\n",
       "      <td>71.987335</td>\n",
       "      <td>487977000</td>\n",
       "    </tr>\n",
       "    <tr>\n",
       "      <th>2020-07-01</th>\n",
       "      <td>167.380005</td>\n",
       "      <td>167.496674</td>\n",
       "      <td>156.836670</td>\n",
       "      <td>166.106674</td>\n",
       "      <td>166.106674</td>\n",
       "      <td>584781000</td>\n",
       "    </tr>\n",
       "    <tr>\n",
       "      <th>2020-10-01</th>\n",
       "      <td>233.330002</td>\n",
       "      <td>239.573334</td>\n",
       "      <td>230.373337</td>\n",
       "      <td>235.223328</td>\n",
       "      <td>235.223328</td>\n",
       "      <td>666378600</td>\n",
       "    </tr>\n",
       "    <tr>\n",
       "      <th>2021-01-01</th>\n",
       "      <td>297.126678</td>\n",
       "      <td>300.133331</td>\n",
       "      <td>290.533325</td>\n",
       "      <td>294.363342</td>\n",
       "      <td>294.363342</td>\n",
       "      <td>268189500</td>\n",
       "    </tr>\n",
       "    <tr>\n",
       "      <th>2021-04-01</th>\n",
       "      <td>256.899994</td>\n",
       "      <td>260.263336</td>\n",
       "      <td>244.203339</td>\n",
       "      <td>254.106674</td>\n",
       "      <td>254.106674</td>\n",
       "      <td>147052200</td>\n",
       "    </tr>\n",
       "    <tr>\n",
       "      <th>2021-07-01</th>\n",
       "      <td>262.399994</td>\n",
       "      <td>266.333344</td>\n",
       "      <td>258.333344</td>\n",
       "      <td>263.786682</td>\n",
       "      <td>263.786682</td>\n",
       "      <td>100847400</td>\n",
       "    </tr>\n",
       "    <tr>\n",
       "      <th>2021-10-01</th>\n",
       "      <td>411.470001</td>\n",
       "      <td>414.496674</td>\n",
       "      <td>405.666656</td>\n",
       "      <td>409.970001</td>\n",
       "      <td>409.970001</td>\n",
       "      <td>188556300</td>\n",
       "    </tr>\n",
       "    <tr>\n",
       "      <th>2022-01-03</th>\n",
       "      <td>396.516663</td>\n",
       "      <td>402.666656</td>\n",
       "      <td>378.679993</td>\n",
       "      <td>399.926666</td>\n",
       "      <td>399.926666</td>\n",
       "      <td>151565700</td>\n",
       "    </tr>\n",
       "    <tr>\n",
       "      <th>2022-04-01</th>\n",
       "      <td>378.766663</td>\n",
       "      <td>384.290009</td>\n",
       "      <td>362.433319</td>\n",
       "      <td>381.816681</td>\n",
       "      <td>381.816681</td>\n",
       "      <td>144973200</td>\n",
       "    </tr>\n",
       "    <tr>\n",
       "      <th>2022-07-01</th>\n",
       "      <td>311.666656</td>\n",
       "      <td>314.666656</td>\n",
       "      <td>305.579987</td>\n",
       "      <td>309.320007</td>\n",
       "      <td>309.320007</td>\n",
       "      <td>142032300</td>\n",
       "    </tr>\n",
       "    <tr>\n",
       "      <th>2022-10-03</th>\n",
       "      <td>254.500000</td>\n",
       "      <td>257.500000</td>\n",
       "      <td>242.009995</td>\n",
       "      <td>249.440002</td>\n",
       "      <td>249.440002</td>\n",
       "      <td>221923300</td>\n",
       "    </tr>\n",
       "    <tr>\n",
       "      <th>2023-01-02</th>\n",
       "      <td>211.759995</td>\n",
       "      <td>217.649994</td>\n",
       "      <td>206.110001</td>\n",
       "      <td>214.240005</td>\n",
       "      <td>214.240005</td>\n",
       "      <td>305632100</td>\n",
       "    </tr>\n",
       "  </tbody>\n",
       "</table>\n",
       "</div>"
      ],
      "text/plain": [
       "                  Open        High         Low       Close   Adj Close  \\\n",
       "Date                                                                     \n",
       "2018-01-01   23.750000   23.999332   23.490667   23.827999   23.827999   \n",
       "2018-04-02   24.344000   24.915333   23.633333   24.722000   24.722000   \n",
       "2018-07-02   24.606001   25.830667   24.474667   25.304667   25.304667   \n",
       "2018-10-01   25.000000   25.299334   24.450001   25.119333   25.119333   \n",
       "2019-01-01   23.080667   23.466667   22.943333   23.153999   23.153999   \n",
       "2019-04-01   19.219999   19.744667   19.144667   19.454000   19.454000   \n",
       "2019-07-01   17.278000   17.738001   17.210667   17.658667   17.658667   \n",
       "2019-10-01   29.000000   29.020666   28.423332   28.729334   28.729334   \n",
       "2020-01-01   61.566666   64.599335   60.068001   61.161331   61.161331   \n",
       "2020-04-01   67.518669   72.512665   66.915337   71.987335   71.987335   \n",
       "2020-07-01  167.380005  167.496674  156.836670  166.106674  166.106674   \n",
       "2020-10-01  233.330002  239.573334  230.373337  235.223328  235.223328   \n",
       "2021-01-01  297.126678  300.133331  290.533325  294.363342  294.363342   \n",
       "2021-04-01  256.899994  260.263336  244.203339  254.106674  254.106674   \n",
       "2021-07-01  262.399994  266.333344  258.333344  263.786682  263.786682   \n",
       "2021-10-01  411.470001  414.496674  405.666656  409.970001  409.970001   \n",
       "2022-01-03  396.516663  402.666656  378.679993  399.926666  399.926666   \n",
       "2022-04-01  378.766663  384.290009  362.433319  381.816681  381.816681   \n",
       "2022-07-01  311.666656  314.666656  305.579987  309.320007  309.320007   \n",
       "2022-10-03  254.500000  257.500000  242.009995  249.440002  249.440002   \n",
       "2023-01-02  211.759995  217.649994  206.110001  214.240005  214.240005   \n",
       "\n",
       "               Volume  \n",
       "Date                   \n",
       "2018-01-01  315021000  \n",
       "2018-04-02  335211000  \n",
       "2018-07-02  504745500  \n",
       "2018-10-01  411382500  \n",
       "2019-01-01  362262000  \n",
       "2019-04-01  398206500  \n",
       "2019-07-01  336274500  \n",
       "2019-10-01  450091500  \n",
       "2020-01-01  914082000  \n",
       "2020-04-01  487977000  \n",
       "2020-07-01  584781000  \n",
       "2020-10-01  666378600  \n",
       "2021-01-01  268189500  \n",
       "2021-04-01  147052200  \n",
       "2021-07-01  100847400  \n",
       "2021-10-01  188556300  \n",
       "2022-01-03  151565700  \n",
       "2022-04-01  144973200  \n",
       "2022-07-01  142032300  \n",
       "2022-10-03  221923300  \n",
       "2023-01-02  305632100  "
      ]
     },
     "execution_count": 37,
     "metadata": {},
     "output_type": "execute_result"
    }
   ],
   "source": [
    "##Business quarter frequency\n",
    "df_tsla.resample(rule = 'BQS').max()"
   ]
  },
  {
   "cell_type": "code",
   "execution_count": 38,
   "id": "a811947b",
   "metadata": {},
   "outputs": [
    {
     "data": {
      "text/plain": [
       "<AxesSubplot:xlabel='Date'>"
      ]
     },
     "execution_count": 38,
     "metadata": {},
     "output_type": "execute_result"
    },
    {
     "data": {
      "image/png": "[encoded data removed]",
      "text/plain": [
       "<Figure size 432x288 with 1 Axes>"
      ]
     },
     "metadata": {
      "needs_background": "light"
     },
     "output_type": "display_data"
    }
   ],
   "source": [
    "#plotting\n",
    "df_tsla['Open'].resample(rule = 'BA').mean().plot(kind = 'bar')"
   ]
  },
  {
   "cell_type": "code",
   "execution_count": 39,
   "id": "44e85db0",
   "metadata": {},
   "outputs": [
    {
     "data": {
      "text/plain": [
       "<AxesSubplot:xlabel='Date'>"
      ]
     },
     "execution_count": 39,
     "metadata": {},
     "output_type": "execute_result"
    },
    {
     "data": {
      "image/png": "[encoded data removed]",
      "text/plain": [
       "<Figure size 1080x432 with 1 Axes>"
      ]
     },
     "metadata": {
      "needs_background": "light"
     },
     "output_type": "display_data"
    }
   ],
   "source": [
    "df_tsla['Open'].resample(rule = 'M').max().plot(kind = 'bar', figsize = (15,6))"
   ]
  },
  {
   "cell_type": "markdown",
   "id": "1afca0f7",
   "metadata": {},
   "source": [
    "#### Rolling"
   ]
  },
  {
   "cell_type": "code",
   "execution_count": 40,
   "id": "907b9539",
   "metadata": {},
   "outputs": [
    {
     "data": {
      "text/plain": [
       "Date\n",
       "2018-02-23          NaN\n",
       "2018-02-26          NaN\n",
       "2018-02-27          NaN\n",
       "2018-02-28          NaN\n",
       "2018-03-01          NaN\n",
       "2018-03-02          NaN\n",
       "2018-03-05          NaN\n",
       "2018-03-06          NaN\n",
       "2018-03-07          NaN\n",
       "2018-03-08          NaN\n",
       "2018-03-09    22.918303\n",
       "2018-03-12    22.871151\n",
       "2018-03-13    22.799697\n",
       "2018-03-14    22.677394\n",
       "2018-03-15    22.541697\n",
       "2018-03-16    22.412788\n",
       "2018-03-19    22.325091\n",
       "2018-03-20    22.194788\n",
       "2018-03-21    22.110364\n",
       "2018-03-22    22.027454\n",
       "Name: High, dtype: float64"
      ]
     },
     "execution_count": 40,
     "metadata": {},
     "output_type": "execute_result"
    }
   ],
   "source": [
    "df_tsla['High'].rolling(11).mean().head(20)"
   ]
  },
  {
   "cell_type": "code",
   "execution_count": 41,
   "id": "aeda6637",
   "metadata": {},
   "outputs": [],
   "source": [
    "df_tsla['Open 30 days rolling'] = df_tsla['Open'].rolling(30).mean()"
   ]
  },
  {
   "cell_type": "code",
   "execution_count": 42,
   "id": "8429cf3e",
   "metadata": {},
   "outputs": [
    {
     "data": {
      "text/html": [
       "<div>\n",
       "<style scoped>\n",
       "    .dataframe tbody tr th:only-of-type {\n",
       "        vertical-align: middle;\n",
       "    }\n",
       "\n",
       "    .dataframe tbody tr th {\n",
       "        vertical-align: top;\n",
       "    }\n",
       "\n",
       "    .dataframe thead th {\n",
       "        text-align: right;\n",
       "    }\n",
       "</style>\n",
       "<table border=\"1\" class=\"dataframe\">\n",
       "  <thead>\n",
       "    <tr style=\"text-align: right;\">\n",
       "      <th></th>\n",
       "      <th>Open</th>\n",
       "      <th>High</th>\n",
       "      <th>Low</th>\n",
       "      <th>Close</th>\n",
       "      <th>Adj Close</th>\n",
       "      <th>Volume</th>\n",
       "      <th>Open 30 days rolling</th>\n",
       "    </tr>\n",
       "    <tr>\n",
       "      <th>Date</th>\n",
       "      <th></th>\n",
       "      <th></th>\n",
       "      <th></th>\n",
       "      <th></th>\n",
       "      <th></th>\n",
       "      <th></th>\n",
       "      <th></th>\n",
       "    </tr>\n",
       "  </thead>\n",
       "  <tbody>\n",
       "    <tr>\n",
       "      <th>2018-02-23</th>\n",
       "      <td>23.188667</td>\n",
       "      <td>23.666000</td>\n",
       "      <td>23.139999</td>\n",
       "      <td>23.469999</td>\n",
       "      <td>23.469999</td>\n",
       "      <td>87261000</td>\n",
       "      <td>NaN</td>\n",
       "    </tr>\n",
       "    <tr>\n",
       "      <th>2018-02-26</th>\n",
       "      <td>23.566668</td>\n",
       "      <td>23.933332</td>\n",
       "      <td>23.490667</td>\n",
       "      <td>23.827999</td>\n",
       "      <td>23.827999</td>\n",
       "      <td>65100000</td>\n",
       "      <td>NaN</td>\n",
       "    </tr>\n",
       "    <tr>\n",
       "      <th>2018-02-27</th>\n",
       "      <td>23.750000</td>\n",
       "      <td>23.999332</td>\n",
       "      <td>23.334000</td>\n",
       "      <td>23.399332</td>\n",
       "      <td>23.399332</td>\n",
       "      <td>71961000</td>\n",
       "      <td>NaN</td>\n",
       "    </tr>\n",
       "    <tr>\n",
       "      <th>2018-02-28</th>\n",
       "      <td>23.504667</td>\n",
       "      <td>23.682667</td>\n",
       "      <td>22.814667</td>\n",
       "      <td>22.870667</td>\n",
       "      <td>22.870667</td>\n",
       "      <td>91045500</td>\n",
       "      <td>NaN</td>\n",
       "    </tr>\n",
       "    <tr>\n",
       "      <th>2018-03-01</th>\n",
       "      <td>23.000668</td>\n",
       "      <td>23.244667</td>\n",
       "      <td>22.004667</td>\n",
       "      <td>22.062000</td>\n",
       "      <td>22.062000</td>\n",
       "      <td>103284000</td>\n",
       "      <td>NaN</td>\n",
       "    </tr>\n",
       "    <tr>\n",
       "      <th>2018-03-02</th>\n",
       "      <td>21.798668</td>\n",
       "      <td>22.348000</td>\n",
       "      <td>21.531334</td>\n",
       "      <td>22.341333</td>\n",
       "      <td>22.341333</td>\n",
       "      <td>76392000</td>\n",
       "      <td>NaN</td>\n",
       "    </tr>\n",
       "    <tr>\n",
       "      <th>2018-03-05</th>\n",
       "      <td>22.159332</td>\n",
       "      <td>22.516666</td>\n",
       "      <td>21.952667</td>\n",
       "      <td>22.223333</td>\n",
       "      <td>22.223333</td>\n",
       "      <td>57357000</td>\n",
       "      <td>NaN</td>\n",
       "    </tr>\n",
       "    <tr>\n",
       "      <th>2018-03-06</th>\n",
       "      <td>22.250000</td>\n",
       "      <td>22.424667</td>\n",
       "      <td>21.802000</td>\n",
       "      <td>21.879999</td>\n",
       "      <td>21.879999</td>\n",
       "      <td>64285500</td>\n",
       "      <td>NaN</td>\n",
       "    </tr>\n",
       "    <tr>\n",
       "      <th>2018-03-07</th>\n",
       "      <td>21.695999</td>\n",
       "      <td>22.166668</td>\n",
       "      <td>21.449333</td>\n",
       "      <td>22.153334</td>\n",
       "      <td>22.153334</td>\n",
       "      <td>75109500</td>\n",
       "      <td>NaN</td>\n",
       "    </tr>\n",
       "    <tr>\n",
       "      <th>2018-03-08</th>\n",
       "      <td>22.190666</td>\n",
       "      <td>22.219999</td>\n",
       "      <td>21.751333</td>\n",
       "      <td>21.940001</td>\n",
       "      <td>21.940001</td>\n",
       "      <td>53493000</td>\n",
       "      <td>NaN</td>\n",
       "    </tr>\n",
       "    <tr>\n",
       "      <th>2018-03-09</th>\n",
       "      <td>21.606667</td>\n",
       "      <td>21.899332</td>\n",
       "      <td>21.491333</td>\n",
       "      <td>21.811333</td>\n",
       "      <td>21.811333</td>\n",
       "      <td>82602000</td>\n",
       "      <td>NaN</td>\n",
       "    </tr>\n",
       "    <tr>\n",
       "      <th>2018-03-12</th>\n",
       "      <td>21.907333</td>\n",
       "      <td>23.147333</td>\n",
       "      <td>21.766666</td>\n",
       "      <td>23.034000</td>\n",
       "      <td>23.034000</td>\n",
       "      <td>123960000</td>\n",
       "      <td>NaN</td>\n",
       "    </tr>\n",
       "    <tr>\n",
       "      <th>2018-03-13</th>\n",
       "      <td>21.907333</td>\n",
       "      <td>23.147333</td>\n",
       "      <td>21.766666</td>\n",
       "      <td>22.789333</td>\n",
       "      <td>22.789333</td>\n",
       "      <td>89487000</td>\n",
       "      <td>NaN</td>\n",
       "    </tr>\n",
       "    <tr>\n",
       "      <th>2018-03-14</th>\n",
       "      <td>22.450666</td>\n",
       "      <td>22.653999</td>\n",
       "      <td>21.595333</td>\n",
       "      <td>21.775333</td>\n",
       "      <td>21.775333</td>\n",
       "      <td>119511000</td>\n",
       "      <td>NaN</td>\n",
       "    </tr>\n",
       "    <tr>\n",
       "      <th>2018-03-15</th>\n",
       "      <td>21.958668</td>\n",
       "      <td>22.190001</td>\n",
       "      <td>21.406668</td>\n",
       "      <td>21.706667</td>\n",
       "      <td>21.706667</td>\n",
       "      <td>98472000</td>\n",
       "      <td>NaN</td>\n",
       "    </tr>\n",
       "    <tr>\n",
       "      <th>2018-03-16</th>\n",
       "      <td>21.528667</td>\n",
       "      <td>21.826668</td>\n",
       "      <td>21.271334</td>\n",
       "      <td>21.423332</td>\n",
       "      <td>21.423332</td>\n",
       "      <td>91759500</td>\n",
       "      <td>NaN</td>\n",
       "    </tr>\n",
       "    <tr>\n",
       "      <th>2018-03-19</th>\n",
       "      <td>21.100000</td>\n",
       "      <td>21.383333</td>\n",
       "      <td>20.644667</td>\n",
       "      <td>20.903999</td>\n",
       "      <td>20.903999</td>\n",
       "      <td>112264500</td>\n",
       "      <td>NaN</td>\n",
       "    </tr>\n",
       "    <tr>\n",
       "      <th>2018-03-20</th>\n",
       "      <td>20.991333</td>\n",
       "      <td>21.083332</td>\n",
       "      <td>20.584000</td>\n",
       "      <td>20.703333</td>\n",
       "      <td>20.703333</td>\n",
       "      <td>71464500</td>\n",
       "      <td>NaN</td>\n",
       "    </tr>\n",
       "    <tr>\n",
       "      <th>2018-03-21</th>\n",
       "      <td>20.683332</td>\n",
       "      <td>21.496000</td>\n",
       "      <td>20.679333</td>\n",
       "      <td>21.101999</td>\n",
       "      <td>21.101999</td>\n",
       "      <td>89376000</td>\n",
       "      <td>NaN</td>\n",
       "    </tr>\n",
       "    <tr>\n",
       "      <th>2018-03-22</th>\n",
       "      <td>20.926001</td>\n",
       "      <td>21.254667</td>\n",
       "      <td>20.545334</td>\n",
       "      <td>20.606667</td>\n",
       "      <td>20.606667</td>\n",
       "      <td>74097000</td>\n",
       "      <td>NaN</td>\n",
       "    </tr>\n",
       "    <tr>\n",
       "      <th>2018-03-23</th>\n",
       "      <td>20.750000</td>\n",
       "      <td>20.750000</td>\n",
       "      <td>20.030001</td>\n",
       "      <td>20.102667</td>\n",
       "      <td>20.102667</td>\n",
       "      <td>99823500</td>\n",
       "      <td>NaN</td>\n",
       "    </tr>\n",
       "    <tr>\n",
       "      <th>2018-03-26</th>\n",
       "      <td>20.489332</td>\n",
       "      <td>20.506001</td>\n",
       "      <td>19.424000</td>\n",
       "      <td>20.278667</td>\n",
       "      <td>20.278667</td>\n",
       "      <td>125628000</td>\n",
       "      <td>NaN</td>\n",
       "    </tr>\n",
       "    <tr>\n",
       "      <th>2018-03-27</th>\n",
       "      <td>20.266666</td>\n",
       "      <td>20.284666</td>\n",
       "      <td>18.478666</td>\n",
       "      <td>18.612000</td>\n",
       "      <td>18.612000</td>\n",
       "      <td>208080000</td>\n",
       "      <td>NaN</td>\n",
       "    </tr>\n",
       "    <tr>\n",
       "      <th>2018-03-28</th>\n",
       "      <td>17.638666</td>\n",
       "      <td>17.912001</td>\n",
       "      <td>16.806667</td>\n",
       "      <td>17.185333</td>\n",
       "      <td>17.185333</td>\n",
       "      <td>315021000</td>\n",
       "      <td>NaN</td>\n",
       "    </tr>\n",
       "    <tr>\n",
       "      <th>2018-03-29</th>\n",
       "      <td>17.099333</td>\n",
       "      <td>18.063999</td>\n",
       "      <td>16.547333</td>\n",
       "      <td>17.742001</td>\n",
       "      <td>17.742001</td>\n",
       "      <td>227560500</td>\n",
       "      <td>NaN</td>\n",
       "    </tr>\n",
       "    <tr>\n",
       "      <th>2018-04-02</th>\n",
       "      <td>17.084000</td>\n",
       "      <td>17.355333</td>\n",
       "      <td>16.306000</td>\n",
       "      <td>16.832001</td>\n",
       "      <td>16.832001</td>\n",
       "      <td>241710000</td>\n",
       "      <td>NaN</td>\n",
       "    </tr>\n",
       "    <tr>\n",
       "      <th>2018-04-03</th>\n",
       "      <td>17.988001</td>\n",
       "      <td>18.223333</td>\n",
       "      <td>16.966000</td>\n",
       "      <td>17.835333</td>\n",
       "      <td>17.835333</td>\n",
       "      <td>282666000</td>\n",
       "      <td>NaN</td>\n",
       "    </tr>\n",
       "    <tr>\n",
       "      <th>2018-04-04</th>\n",
       "      <td>16.851999</td>\n",
       "      <td>19.224667</td>\n",
       "      <td>16.799999</td>\n",
       "      <td>19.129333</td>\n",
       "      <td>19.129333</td>\n",
       "      <td>298450500</td>\n",
       "      <td>NaN</td>\n",
       "    </tr>\n",
       "    <tr>\n",
       "      <th>2018-04-05</th>\n",
       "      <td>19.289333</td>\n",
       "      <td>20.417334</td>\n",
       "      <td>19.213333</td>\n",
       "      <td>20.381332</td>\n",
       "      <td>20.381332</td>\n",
       "      <td>286816500</td>\n",
       "      <td>NaN</td>\n",
       "    </tr>\n",
       "    <tr>\n",
       "      <th>2018-04-06</th>\n",
       "      <td>20.066668</td>\n",
       "      <td>20.618668</td>\n",
       "      <td>19.700001</td>\n",
       "      <td>19.953333</td>\n",
       "      <td>19.953333</td>\n",
       "      <td>202804500</td>\n",
       "      <td>20.989644</td>\n",
       "    </tr>\n",
       "    <tr>\n",
       "      <th>2018-04-09</th>\n",
       "      <td>20.024668</td>\n",
       "      <td>20.633333</td>\n",
       "      <td>19.280666</td>\n",
       "      <td>19.310667</td>\n",
       "      <td>19.310667</td>\n",
       "      <td>153747000</td>\n",
       "      <td>20.884178</td>\n",
       "    </tr>\n",
       "  </tbody>\n",
       "</table>\n",
       "</div>"
      ],
      "text/plain": [
       "                 Open       High        Low      Close  Adj Close     Volume  \\\n",
       "Date                                                                           \n",
       "2018-02-23  23.188667  23.666000  23.139999  23.469999  23.469999   87261000   \n",
       "2018-02-26  23.566668  23.933332  23.490667  23.827999  23.827999   65100000   \n",
       "2018-02-27  23.750000  23.999332  23.334000  23.399332  23.399332   71961000   \n",
       "2018-02-28  23.504667  23.682667  22.814667  22.870667  22.870667   91045500   \n",
       "2018-03-01  23.000668  23.244667  22.004667  22.062000  22.062000  103284000   \n",
       "2018-03-02  21.798668  22.348000  21.531334  22.341333  22.341333   76392000   \n",
       "2018-03-05  22.159332  22.516666  21.952667  22.223333  22.223333   57357000   \n",
       "2018-03-06  22.250000  22.424667  21.802000  21.879999  21.879999   64285500   \n",
       "2018-03-07  21.695999  22.166668  21.449333  22.153334  22.153334   75109500   \n",
       "2018-03-08  22.190666  22.219999  21.751333  21.940001  21.940001   53493000   \n",
       "2018-03-09  21.606667  21.899332  21.491333  21.811333  21.811333   82602000   \n",
       "2018-03-12  21.907333  23.147333  21.766666  23.034000  23.034000  123960000   \n",
       "2018-03-13  21.907333  23.147333  21.766666  22.789333  22.789333   89487000   \n",
       "2018-03-14  22.450666  22.653999  21.595333  21.775333  21.775333  119511000   \n",
       "2018-03-15  21.958668  22.190001  21.406668  21.706667  21.706667   98472000   \n",
       "2018-03-16  21.528667  21.826668  21.271334  21.423332  21.423332   91759500   \n",
       "2018-03-19  21.100000  21.383333  20.644667  20.903999  20.903999  112264500   \n",
       "2018-03-20  20.991333  21.083332  20.584000  20.703333  20.703333   71464500   \n",
       "2018-03-21  20.683332  21.496000  20.679333  21.101999  21.101999   89376000   \n",
       "2018-03-22  20.926001  21.254667  20.545334  20.606667  20.606667   74097000   \n",
       "2018-03-23  20.750000  20.750000  20.030001  20.102667  20.102667   99823500   \n",
       "2018-03-26  20.489332  20.506001  19.424000  20.278667  20.278667  125628000   \n",
       "2018-03-27  20.266666  20.284666  18.478666  18.612000  18.612000  208080000   \n",
       "2018-03-28  17.638666  17.912001  16.806667  17.185333  17.185333  315021000   \n",
       "2018-03-29  17.099333  18.063999  16.547333  17.742001  17.742001  227560500   \n",
       "2018-04-02  17.084000  17.355333  16.306000  16.832001  16.832001  241710000   \n",
       "2018-04-03  17.988001  18.223333  16.966000  17.835333  17.835333  282666000   \n",
       "2018-04-04  16.851999  19.224667  16.799999  19.129333  19.129333  298450500   \n",
       "2018-04-05  19.289333  20.417334  19.213333  20.381332  20.381332  286816500   \n",
       "2018-04-06  20.066668  20.618668  19.700001  19.953333  19.953333  202804500   \n",
       "2018-04-09  20.024668  20.633333  19.280666  19.310667  19.310667  153747000   \n",
       "\n",
       "            Open 30 days rolling  \n",
       "Date                              \n",
       "2018-02-23                   NaN  \n",
       "2018-02-26                   NaN  \n",
       "2018-02-27                   NaN  \n",
       "2018-02-28                   NaN  \n",
       "2018-03-01                   NaN  \n",
       "2018-03-02                   NaN  \n",
       "2018-03-05                   NaN  \n",
       "2018-03-06                   NaN  \n",
       "2018-03-07                   NaN  \n",
       "2018-03-08                   NaN  \n",
       "2018-03-09                   NaN  \n",
       "2018-03-12                   NaN  \n",
       "2018-03-13                   NaN  \n",
       "2018-03-14                   NaN  \n",
       "2018-03-15                   NaN  \n",
       "2018-03-16                   NaN  \n",
       "2018-03-19                   NaN  \n",
       "2018-03-20                   NaN  \n",
       "2018-03-21                   NaN  \n",
       "2018-03-22                   NaN  \n",
       "2018-03-23                   NaN  \n",
       "2018-03-26                   NaN  \n",
       "2018-03-27                   NaN  \n",
       "2018-03-28                   NaN  \n",
       "2018-03-29                   NaN  \n",
       "2018-04-02                   NaN  \n",
       "2018-04-03                   NaN  \n",
       "2018-04-04                   NaN  \n",
       "2018-04-05                   NaN  \n",
       "2018-04-06             20.989644  \n",
       "2018-04-09             20.884178  "
      ]
     },
     "execution_count": 42,
     "metadata": {},
     "output_type": "execute_result"
    }
   ],
   "source": [
    "df_tsla.head(31)"
   ]
  },
  {
   "cell_type": "code",
   "execution_count": 43,
   "id": "2aecdb9d",
   "metadata": {},
   "outputs": [
    {
     "data": {
      "text/plain": [
       "<AxesSubplot:xlabel='Date'>"
      ]
     },
     "execution_count": 43,
     "metadata": {},
     "output_type": "execute_result"
    },
    {
     "data": {
      "image/png": "[encoded data removed]",
      "text/plain": [
       "<Figure size 864x360 with 1 Axes>"
      ]
     },
     "metadata": {
      "needs_background": "light"
     },
     "output_type": "display_data"
    }
   ],
   "source": [
    "df_tsla[['Open','Open 30 days rolling']].plot(figsize = (12,5))"
   ]
  },
  {
   "cell_type": "code",
   "execution_count": null,
   "id": "bc3075d2",
   "metadata": {},
   "outputs": [],
   "source": []
  },
  {
   "cell_type": "code",
   "execution_count": null,
   "id": "e8e5f1ac",
   "metadata": {},
   "outputs": [],
   "source": []
  },
  {
   "cell_type": "code",
   "execution_count": null,
   "id": "c38baacd",
   "metadata": {},
   "outputs": [],
   "source": []
  }
 ],
 "metadata": {
  "kernelspec": {
   "display_name": "Python 3 (ipykernel)",
   "language": "python",
   "name": "python3"
  },
  "language_info": {
   "codemirror_mode": {
    "name": "ipython",
    "version": 3
   },
   "file_extension": ".py",
   "mimetype": "text/x-python",
   "name": "python",
   "nbconvert_exporter": "python",
   "pygments_lexer": "ipython3",
   "version": "3.7.3"
  }
 },
 "nbformat": 4,
 "nbformat_minor": 5
}
